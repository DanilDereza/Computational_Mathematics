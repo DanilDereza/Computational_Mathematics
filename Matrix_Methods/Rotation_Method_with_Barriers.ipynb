{
 "cells": [
  {
   "cell_type": "code",
   "execution_count": 360,
   "id": "d0c46c83",
   "metadata": {},
   "outputs": [],
   "source": [
    "import numpy as np\n",
    "import sympy as sp\n",
    "import copy"
   ]
  },
  {
   "cell_type": "code",
   "execution_count": 456,
   "id": "9ff84f84",
   "metadata": {},
   "outputs": [],
   "source": [
    "SIZE = 4\n",
    "presicion = 10"
   ]
  },
  {
   "cell_type": "code",
   "execution_count": 457,
   "id": "93d905d7",
   "metadata": {},
   "outputs": [],
   "source": [
    "def get_indexes_max_nondiag(Matrix):\n",
    "    indexes = (1, 0)\n",
    "    for i in range(Matrix.shape[0]):\n",
    "        for j in range(i):\n",
    "            indexes = (i, j) if abs(Matrix[indexes]) < abs(Matrix[i, j]) else indexes\n",
    "    return indexes\n",
    "\n",
    "\n",
    "def get_max_diag(Matrix):\n",
    "    max_value = 0\n",
    "    for i in range(Matrix.shape[0]):\n",
    "        max_value = abs(Matrix[i, i]) if max_value < abs(Matrix[i, i]) else max_value\n",
    "    return max_value\n",
    "\n",
    "\n",
    "def sgn(value):\n",
    "    return 1 if value >= 0 else -1\n",
    "\n",
    "\n",
    "def validation_defination(Matrix, sigma_elem):\n",
    "    obstacle = np.sqrt(get_max_diag(Matrix)) * sigma_elem\n",
    "    for i in range(Matrix.shape[0]):\n",
    "        for j in range(Matrix.shape[1]):\n",
    "            if (i!=j and abs(Matrix[i, j]) > obstacle):\n",
    "                return True\n",
    "    return False\n",
    "\n",
    "    \n",
    "def rotations_with_obstacles(Matrix, p):\n",
    "    sigmas = [10**(-k) for k in range(p)]\n",
    "    W = sp.eye(Matrix.shape[0])\n",
    "    for sigma_elem in sigmas:\n",
    "        while (validation_defination(Matrix, sigma_elem)):\n",
    "            row_max, col_max = get_indexes_max_nondiag(Matrix)\n",
    "            \n",
    "            d = np.sqrt((Matrix[row_max, row_max] - Matrix[col_max, col_max])**2 + 4*(Matrix[row_max, col_max]**2))\n",
    "            c = np.sqrt((1+(abs(Matrix[row_max, row_max] - Matrix[col_max, col_max]) / d)) / 2)\n",
    "            s = sgn(Matrix[row_max, col_max] * (Matrix[row_max, row_max] - Matrix[col_max, col_max])) * np.sqrt((1-(abs(Matrix[row_max, row_max] - Matrix[col_max, col_max]) / d)) / 2)\n",
    "            \n",
    "            C_matrix = copy.deepcopy(Matrix)\n",
    "            \n",
    "            for k in range(Matrix.shape[0]):\n",
    "                for l in range(Matrix.shape[1]):\n",
    "                    if k != row_max and k != col_max and l != row_max and l != col_max:\n",
    "                        None\n",
    "                    elif k != row_max and k != col_max:\n",
    "                        C_matrix[k, row_max] = C_matrix[row_max, k] = c * Matrix[k, row_max] + s * Matrix[k, col_max]\n",
    "                        C_matrix[k, col_max] = C_matrix[col_max, k] =  - s * Matrix[k, row_max] + c * Matrix[k, col_max]\n",
    "            C_matrix[row_max, row_max] = c**2 * Matrix[row_max, row_max] + c*s*2*Matrix[row_max, col_max] + s**2 * Matrix[col_max, col_max]\n",
    "            C_matrix[col_max, col_max] = s**2 * Matrix[row_max, row_max] - c*s*2*Matrix[row_max, col_max] + c**2 * Matrix[col_max, col_max]\n",
    "            C_matrix[row_max, col_max] = C_matrix[col_max, row_max] = 0\n",
    "            \n",
    "            T = sp.eye(Matrix.shape[0])\n",
    "            T[row_max, row_max] = c\n",
    "            T[row_max, col_max] = -s\n",
    "            T[col_max, row_max] = s\n",
    "            T[col_max, col_max] = c\n",
    "            \n",
    "            W *= T\n",
    "            \n",
    "            Matrix = C_matrix\n",
    "    \n",
    "    lambdas = [Matrix[i, i] for i in range(Matrix.shape[0])]\n",
    "    \n",
    "    return Matrix, lambdas, np.matrix([[round(W[i, j], 8) for j in range(SIZE)] for i in range(SIZE)])"
   ]
  },
  {
   "cell_type": "code",
   "execution_count": 458,
   "id": "debef2ac",
   "metadata": {
    "scrolled": true
   },
   "outputs": [
    {
     "data": {
      "text/plain": [
       "matrix([[-0.1687  ,  0.353699,  0.00854 ,  0.733624],\n",
       "        [ 0.353699,  0.056519, -0.723182, -0.07644 ],\n",
       "        [ 0.00854 , -0.723182,  0.015938,  0.342333],\n",
       "        [ 0.733624, -0.07644 ,  0.342333, -0.045744]])"
      ]
     },
     "execution_count": 458,
     "metadata": {},
     "output_type": "execute_result"
    }
   ],
   "source": [
    "A = np.matrix([\n",
    "    [-0.168700, 0.353699, 0.008540, 0.733624],\n",
    "    [0.353699, 0.056519, -0.723182, -0.076440],\n",
    "    [0.008540, -0.723182, 0.015938, 0.342333],\n",
    "    [0.733624, -0.076440, 0.342333, -0.045744]\n",
    "], dtype=np.float64)\n",
    "\n",
    "SIZE = A.shape[0]\n",
    "\n",
    "A"
   ]
  },
  {
   "cell_type": "code",
   "execution_count": 459,
   "id": "148e82c6",
   "metadata": {},
   "outputs": [
    {
     "data": {
      "text/latex": [
       "$\\displaystyle \\left[\\begin{matrix}-0.943567855487324 & 9.70642139548909 \\cdot 10^{-13} & 2.56187264309855 \\cdot 10^{-21} & 0\\\\9.70642139548909 \\cdot 10^{-13} & 0.857774177202395 & 0 & -2.56187232160398 \\cdot 10^{-21}\\\\2.56187264309855 \\cdot 10^{-21} & 0 & -0.744036406029614 & 9.70642131905946 \\cdot 10^{-13}\\\\0 & -2.56187232160398 \\cdot 10^{-21} & 9.70642131905946 \\cdot 10^{-13} & 0.687843084314543\\end{matrix}\\right]$"
      ],
      "text/plain": [
       "Matrix([\n",
       "[  -0.943567855487324,  9.70642139548909e-13, 2.56187264309855e-21,                     0],\n",
       "[9.70642139548909e-13,     0.857774177202395,                    0, -2.56187232160398e-21],\n",
       "[2.56187264309855e-21,                     0,   -0.744036406029614,  9.70642131905946e-13],\n",
       "[                   0, -2.56187232160398e-21, 9.70642131905946e-13,     0.687843084314543]])"
      ]
     },
     "execution_count": 459,
     "metadata": {},
     "output_type": "execute_result"
    }
   ],
   "source": [
    "Result_Matrix, eigenvalues, vectors = rotations_with_obstacles(A, presicion)\n",
    "\n",
    "sp.Matrix(Result_Matrix)"
   ]
  },
  {
   "cell_type": "code",
   "execution_count": 460,
   "id": "7d247197",
   "metadata": {
    "scrolled": false
   },
   "outputs": [
    {
     "data": {
      "text/plain": [
       "(array([-0.94356786,  0.85777418, -0.74403641,  0.68784308]),\n",
       " matrix([[0.72360715, -0.02236707, 0.04102068, 0.68862887],\n",
       "         [-0.33173569, 0.64347358, 0.60387191, 0.33351447],\n",
       "         [-0.04102065, -0.68862871, 0.72360729, -0.02236710],\n",
       "         [-0.60387204, -0.33351456, -0.33173559, 0.64347346]], dtype=object))"
      ]
     },
     "execution_count": 460,
     "metadata": {},
     "output_type": "execute_result"
    }
   ],
   "source": [
    "(np.array(eigenvalues), vectors)"
   ]
  },
  {
   "cell_type": "code",
   "execution_count": 461,
   "id": "c310a44c",
   "metadata": {
    "scrolled": true
   },
   "outputs": [
    {
     "data": {
      "text/plain": [
       "(array([-0.94356786, -0.74403641,  0.68784308,  0.85777418]),\n",
       " matrix([[ 0.72360715, -0.04102068,  0.68862887,  0.02236707],\n",
       "         [-0.33173569, -0.60387191,  0.33351447, -0.64347358],\n",
       "         [-0.04102065, -0.72360729, -0.0223671 ,  0.68862871],\n",
       "         [-0.60387204,  0.33173559,  0.64347346,  0.33351457]]))"
      ]
     },
     "execution_count": 461,
     "metadata": {},
     "output_type": "execute_result"
    }
   ],
   "source": [
    "np.linalg.eig(A)"
   ]
  },
  {
   "cell_type": "code",
   "execution_count": 462,
   "id": "233a690e",
   "metadata": {
    "scrolled": true
   },
   "outputs": [
    {
     "name": "stdout",
     "output_type": "stream",
     "text": [
      "Результат: [-0.94356786 -0.74403641  0.68784308  0.85777418]\n"
     ]
    }
   ],
   "source": [
    "print(\"Результат:\", np.sort(eigenvalues))"
   ]
  },
  {
   "cell_type": "code",
   "execution_count": 463,
   "id": "270b9bfd",
   "metadata": {
    "scrolled": false
   },
   "outputs": [
    {
     "name": "stdout",
     "output_type": "stream",
     "text": [
      "Погрешность: [ 2.22044605e-16  5.55111512e-16 -3.33066907e-16  1.11022302e-16]\n"
     ]
    }
   ],
   "source": [
    "print(\"Погрешность:\", np.sort(eigenvalues) - np.sort(np.linalg.eig(A)[0]))"
   ]
  }
 ],
 "metadata": {
  "kernelspec": {
   "display_name": "Python 3 (ipykernel)",
   "language": "python",
   "name": "python3"
  },
  "language_info": {
   "codemirror_mode": {
    "name": "ipython",
    "version": 3
   },
   "file_extension": ".py",
   "mimetype": "text/x-python",
   "name": "python",
   "nbconvert_exporter": "python",
   "pygments_lexer": "ipython3",
   "version": "3.11.5"
  }
 },
 "nbformat": 4,
 "nbformat_minor": 5
}
