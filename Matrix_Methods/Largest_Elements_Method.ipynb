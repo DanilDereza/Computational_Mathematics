{
 "cells": [
  {
   "cell_type": "code",
   "execution_count": 6,
   "id": "b3d477c2",
   "metadata": {},
   "outputs": [],
   "source": [
    "import numpy as np\n",
    "from sympy import *\n",
    "import random\n",
    "import copy"
   ]
  },
  {
   "cell_type": "code",
   "execution_count": 7,
   "id": "725cbd0a",
   "metadata": {},
   "outputs": [],
   "source": [
    "def create_matrix_1(n, a, b):\n",
    "    array = []\n",
    "    for i in range(n):\n",
    "        array.append(random.uniform(a, b))\n",
    "    return array\n",
    "\n",
    "\n",
    "def create_matrix_2(n, a, b):\n",
    "    array = []\n",
    "    for i in range(n):\n",
    "        array.append([random.uniform(a, b) for j in range(n)])\n",
    "    return array\n",
    "\n",
    "\n",
    "def print_arr(arr):\n",
    "    for i in range(len(arr)):\n",
    "        for j in range(len(arr[i])):\n",
    "            print(arr[i][j], end = ' ')\n",
    "        print()\n",
    "        \n",
    "\n",
    "def find_max(A, counter):\n",
    "    absolute_max = [0, 0, 0]\n",
    "    for _ in range (len(A) - counter):\n",
    "        for __ in range(len(A[_])):\n",
    "            absolute_max = [A[_][__], _, __] if (abs(A[_][__]) > abs(absolute_max[0])) else absolute_max\n",
    "    return absolute_max"
   ]
  },
  {
   "cell_type": "code",
   "execution_count": 8,
   "id": "eba5d547",
   "metadata": {},
   "outputs": [],
   "source": [
    "SIZE = 3\n",
    "left = -10\n",
    "right = 10"
   ]
  },
  {
   "cell_type": "code",
   "execution_count": 9,
   "id": "408981fa",
   "metadata": {},
   "outputs": [
    {
     "name": "stdout",
     "output_type": "stream",
     "text": [
      "Матрица А:\n",
      "3.071764602491962 -7.841849604297622 -3.053762711881916 \n",
      "-0.5982802536008123 -2.4172093712017295 1.2902772697663991 \n",
      "9.803050395637452 -0.3455176119194707 -7.753118496555727 \n",
      "\n",
      "Определитель матрицы А: -76.87032117378185\n"
     ]
    }
   ],
   "source": [
    "while(True):\n",
    "    A = create_matrix_2(SIZE, left, right)\n",
    "    if np.linalg.det(A):\n",
    "        break\n",
    "print(\"Матрица А:\")\n",
    "print_arr(A)\n",
    "print()\n",
    "print(\"Определитель матрицы А:\", np.linalg.det(A))"
   ]
  },
  {
   "cell_type": "code",
   "execution_count": 24,
   "id": "0ac366d1",
   "metadata": {},
   "outputs": [
    {
     "name": "stdout",
     "output_type": "stream",
     "text": [
      "2.1 -4.5 -2 \n",
      "3 2.5 4.3 \n",
      "-6 3.5 2.5 \n",
      "Определитель матрицы А: 80.36999999999999\n"
     ]
    }
   ],
   "source": [
    "A = [[2.1, -4.5, -2], [3, 2.5, 4.3], [-6, 3.5, 2.5]]\n",
    "print_arr(A)\n",
    "print(\"Определитель матрицы А:\", np.linalg.det(A))"
   ]
  },
  {
   "cell_type": "code",
   "execution_count": 25,
   "id": "995631d3",
   "metadata": {},
   "outputs": [
    {
     "name": "stdout",
     "output_type": "stream",
     "text": [
      "Матрица B: [-2.450988111592805, 8.58785671810471, 6.4040205655115585]\n"
     ]
    }
   ],
   "source": [
    "B = create_matrix_1(SIZE, left, right)\n",
    "print(\"Матрица B:\", B)"
   ]
  },
  {
   "cell_type": "code",
   "execution_count": 26,
   "id": "79a8ee34",
   "metadata": {},
   "outputs": [],
   "source": [
    "B = [19.07, 3.21, -18.25]"
   ]
  },
  {
   "cell_type": "code",
   "execution_count": 37,
   "id": "3612efea",
   "metadata": {},
   "outputs": [
    {
     "name": "stdout",
     "output_type": "stream",
     "text": [
      "0.0 -3.275 -1.125 \n",
      "0.0 4.25 5.55 \n",
      "0 0 0 \n",
      "[12.682500000000001, -5.915, 0]\n",
      "0.0 -2.4135135135135135 0.0 \n",
      "0.0 4.25 5.55 \n",
      "0 0 0 \n",
      "[11.483513513513515, -5.915, 0]\n",
      "0.0 -2.4135135135135135 0.0 \n",
      "0.0 4.25 5.55 \n",
      "0 0 0 \n",
      "[11.483513513513515, -5.915, 0]\n",
      "1.0 -0.5833333333333334 -0.4166666666666667 \n",
      "0.0 0.7657657657657658 1.0 \n",
      "-0.0 1.0 -0.0 \n",
      "[3.0416666666666665, -1.0657657657657658, -4.758006718924973]\n"
     ]
    }
   ],
   "source": [
    "alpha = [[0 for i in range(SIZE)] for j in range(SIZE)]\n",
    "betta = []\n",
    "\n",
    "NEW_A = copy.deepcopy(alpha)\n",
    "NEW_B = [0 for i in range(SIZE)]\n",
    "\n",
    "\n",
    "def main_algorithm(A, B, counter):\n",
    "    MAX = find_max(A, counter)\n",
    "    \n",
    "    for i in range(SIZE):\n",
    "        alpha[counter][i] = A[MAX[1]][i] / MAX[0]\n",
    "    betta.append(B[MAX[1]] / MAX[0])\n",
    "    \n",
    "    m = []\n",
    "    for i in range(SIZE - counter):\n",
    "        if (i == MAX[1]): m.append(0)\n",
    "        else: m.append(-A[i][MAX[2]]/MAX[0])\n",
    "            \n",
    "    for i in range(SIZE - counter):\n",
    "        for j in range(SIZE):\n",
    "            if (i != MAX[1]):\n",
    "                NEW_A[i][j] = A[i][j] + A[MAX[1]][j] * m[i] \n",
    "            else: None\n",
    "    \n",
    "    for i in range(SIZE - counter):\n",
    "        if (i != MAX[1]):\n",
    "            NEW_B[i] = B[i] + B[MAX[1]] * m[i]\n",
    "    \n",
    "    print_arr(NEW_A)\n",
    "    print(NEW_B)\n",
    "    \n",
    "    if (counter == 2): return\n",
    "    else: return main_algorithm(NEW_A, NEW_B, counter+1)\n",
    "\n",
    "main_algorithm(A, B, 0)\n",
    "print_arr(alpha)\n",
    "print(betta)"
   ]
  },
  {
   "cell_type": "code",
   "execution_count": 53,
   "id": "09e63759",
   "metadata": {},
   "outputs": [],
   "source": [
    "def back_algorithn(Alpha, Betta, x, reversed_counter):\n",
    "    for j in range(SIZE):\n",
    "        if (Alpha[reversed_counter][j] == 1):\n",
    "            index = j\n",
    "    x[index] = Betta[reversed_counter]\n",
    "    \n",
    "    comb = 0\n",
    "    \n",
    "    for j in range(SIZE):\n",
    "        if (j != index): \n",
    "            comb += Alpha[reversed_counter][j] * x[j]\n",
    "        else: None\n",
    "    x[index] -= comb\n",
    "    \n",
    "    if (reversed_counter == 0): return x\n",
    "    else: return back_algorithn(Alpha, Betta, x, reversed_counter-1)\n",
    "    \n"
   ]
  },
  {
   "cell_type": "code",
   "execution_count": 61,
   "id": "dd0d9fd9",
   "metadata": {
    "scrolled": false
   },
   "outputs": [
    {
     "name": "stdout",
     "output_type": "stream",
     "text": [
      "1.0 -0.5833333333333334 -0.4166666666666667 \n",
      "0.0 0.7657657657657658 1.0 \n",
      "-0.0 1.0 -0.0 \n",
      "[3.0416666666666665, -1.0657657657657658, -4.758006718924973]\n",
      "[0, 0, 0]\n",
      "2\n",
      "\n",
      "[19.07, 3.21, -18.25]\n",
      "2.1 -4.5 -2 \n",
      "3 2.5 4.3 \n",
      "-6 3.5 2.5 \n"
     ]
    }
   ],
   "source": [
    "x = [0 for i in range(SIZE)]\n",
    "print_arr(alpha)\n",
    "print(betta)\n",
    "print(x)\n",
    "print(SIZE-1)\n",
    "print()\n",
    "back_algorithn(alpha, betta, x, SIZE-1)\n",
    "print(B)\n",
    "print_arr(A)"
   ]
  },
  {
   "cell_type": "code",
   "execution_count": 64,
   "id": "57b647ae",
   "metadata": {},
   "outputs": [
    {
     "data": {
      "text/plain": [
       "array([ 4.4408921e-16,  8.8817842e-16, -8.8817842e-16])"
      ]
     },
     "execution_count": 64,
     "metadata": {},
     "output_type": "execute_result"
    }
   ],
   "source": [
    "np.linalg.solve(A, B) - back_algorithn(alpha, betta, x, SIZE-1)"
   ]
  },
  {
   "cell_type": "code",
   "execution_count": 62,
   "id": "59729632",
   "metadata": {},
   "outputs": [
    {
     "data": {
      "text/plain": [
       "[1.3402264526564636, -4.758006718924973, 2.577752892870475]"
      ]
     },
     "execution_count": 62,
     "metadata": {},
     "output_type": "execute_result"
    }
   ],
   "source": [
    "back_algorithn(alpha, betta, x, SIZE-1)"
   ]
  }
 ],
 "metadata": {
  "kernelspec": {
   "display_name": "Python 3 (ipykernel)",
   "language": "python",
   "name": "python3"
  },
  "language_info": {
   "codemirror_mode": {
    "name": "ipython",
    "version": 3
   },
   "file_extension": ".py",
   "mimetype": "text/x-python",
   "name": "python",
   "nbconvert_exporter": "python",
   "pygments_lexer": "ipython3",
   "version": "3.9.13"
  }
 },
 "nbformat": 4,
 "nbformat_minor": 5
}
