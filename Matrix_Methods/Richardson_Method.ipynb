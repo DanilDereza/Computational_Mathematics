{
 "cells": [
  {
   "cell_type": "code",
   "execution_count": 1,
   "id": "a41576ce",
   "metadata": {},
   "outputs": [],
   "source": [
    "import numpy as np\n",
    "import sympy as sp\n",
    "import pandas as pd\n",
    "import copy"
   ]
  },
  {
   "cell_type": "code",
   "execution_count": 25,
   "id": "2185a7b7",
   "metadata": {
    "scrolled": true
   },
   "outputs": [
    {
     "data": {
      "text/plain": [
       "0.001"
      ]
     },
     "execution_count": 25,
     "metadata": {},
     "output_type": "execute_result"
    }
   ],
   "source": [
    "SIZE = 4\n",
    "presicion = 4\n",
    "epsilon = 10**(-presicion+1)\n",
    "epsilon"
   ]
  },
  {
   "cell_type": "code",
   "execution_count": 26,
   "id": "3ac31b87",
   "metadata": {},
   "outputs": [],
   "source": [
    "def get_indexes_max_nondiag(Matrix):\n",
    "    indexes = (1, 0)\n",
    "    for i in range(Matrix.shape[0]):\n",
    "        for j in range(i):\n",
    "            indexes = (i, j) if abs(Matrix[indexes]) < abs(Matrix[i, j]) else indexes\n",
    "    return indexes\n",
    "\n",
    "\n",
    "def get_max_diag(Matrix):\n",
    "    max_value = 0\n",
    "    for i in range(Matrix.shape[0]):\n",
    "        max_value = abs(Matrix[i, i]) if max_value < abs(Matrix[i, i]) else max_value\n",
    "    return max_value\n",
    "\n",
    "\n",
    "def sgn(value):\n",
    "    return 1 if value >= 0 else -1\n",
    "\n",
    "\n",
    "def validation_defination(Matrix, sigma_elem):\n",
    "    obstacle = np.sqrt(get_max_diag(Matrix)) * sigma_elem\n",
    "    for i in range(Matrix.shape[0]):\n",
    "        for j in range(Matrix.shape[1]):\n",
    "            if (i!=j and abs(Matrix[i, j]) > obstacle):\n",
    "                return True\n",
    "    return False\n",
    "\n",
    "    \n",
    "def rotations_with_obstacles(Matrix, p):\n",
    "    sigmas = [10**(-k) for k in range(p)]\n",
    "    W = sp.eye(Matrix.shape[0])\n",
    "    \n",
    "    counter = 0\n",
    "    \n",
    "    for sigma_elem in sigmas:\n",
    "        while (validation_defination(Matrix, sigma_elem)):\n",
    "            \n",
    "            counter+=1\n",
    "            \n",
    "            row_max, col_max = get_indexes_max_nondiag(Matrix)\n",
    "            \n",
    "            d = np.sqrt((Matrix[row_max, row_max] - Matrix[col_max, col_max])**2 + 4*(Matrix[row_max, col_max]**2))\n",
    "            c = np.sqrt((1+(abs(Matrix[row_max, row_max] - Matrix[col_max, col_max]) / d)) / 2)\n",
    "            s = sgn(Matrix[row_max, col_max] * (Matrix[row_max, row_max] - Matrix[col_max, col_max])) *\\\n",
    "            np.sqrt((1-(abs(Matrix[row_max, row_max] - Matrix[col_max, col_max]) / d)) / 2)\n",
    "            \n",
    "            C_matrix = copy.deepcopy(Matrix)\n",
    "            \n",
    "            for k in range(Matrix.shape[0]):\n",
    "                for l in range(Matrix.shape[1]):\n",
    "                    if k != row_max and k != col_max and l != row_max and l != col_max:\n",
    "                        None\n",
    "                    elif k != row_max and k != col_max:\n",
    "                        C_matrix[k, row_max] = C_matrix[row_max, k] = c * Matrix[k, row_max] + s * Matrix[k, col_max]\n",
    "                        C_matrix[k, col_max] = C_matrix[col_max, k] =  - s * Matrix[k, row_max] + c * Matrix[k, col_max]\n",
    "            C_matrix[row_max, row_max] = c**2 * Matrix[row_max, row_max] + c*s*2*Matrix[row_max, col_max] + s**2 * Matrix[col_max, col_max]\n",
    "            C_matrix[col_max, col_max] = s**2 * Matrix[row_max, row_max] - c*s*2*Matrix[row_max, col_max] + c**2 * Matrix[col_max, col_max]\n",
    "            C_matrix[row_max, col_max] = C_matrix[col_max, row_max] = 0\n",
    "            \n",
    "            T = sp.eye(Matrix.shape[0])\n",
    "            T[row_max, row_max] = c\n",
    "            T[row_max, col_max] = -s\n",
    "            T[col_max, row_max] = s\n",
    "            T[col_max, col_max] = c\n",
    "            \n",
    "            W *= T\n",
    "            \n",
    "            Matrix = C_matrix\n",
    "            \n",
    "    \n",
    "    lambdas = [Matrix[i, i] for i in range(Matrix.shape[0])]\n",
    "    \n",
    "    \n",
    "    return Matrix, lambdas, np.matrix([[round(W[i, j], 8) for j in range(SIZE)] for i in range(SIZE)])\n",
    "\n",
    "\n",
    "def Richardson_method(lambda_min, lambda_max, A, B, epsilon):\n",
    "    n = 1\n",
    "    ksi = lambda_min / lambda_max\n",
    "\n",
    "    while True:\n",
    "        ro = (1 - np.sqrt(ksi)) / (1 + np.sqrt(ksi))\n",
    "        q_n = (2*ro**n) / (1 + ro**(2*n))\n",
    "\n",
    "        if (q_n < epsilon): break\n",
    "        else: n+=1\n",
    "\n",
    "    print(\"Число итераций: n =\", n, \"\\nВеличина сходимости: q_n =\", q_n)\n",
    "    \n",
    "    ro_0 = (1 - ksi) / (1 + ksi)\n",
    "    tau_0 = 2 / (lambda_min + lambda_max)\n",
    "    x_prev = x_new = np.matrix(np.zeros(SIZE)).T\n",
    "\n",
    "    df_arr = np.array(x_new).flatten()\n",
    "\n",
    "    for k in range(0, n+1):\n",
    "        mu_k = np.cos((2*k - 1) * np.pi / (2 * n))\n",
    "        tau_k = tau_0 / (1 + ro_0 * mu_k)\n",
    "\n",
    "        x_new = x_prev - tau_k * (A * x_prev - B)\n",
    "\n",
    "        df_arr = np.vstack([df_arr, np.array(x_new).flatten()])\n",
    "\n",
    "        x_prev = x_new\n",
    "\n",
    "    df = pd.DataFrame(df_arr)\n",
    "    df.columns = [f'X_{i+1}' for i in range(SIZE)]\n",
    "    return x_new, df"
   ]
  },
  {
   "cell_type": "code",
   "execution_count": 27,
   "id": "fbeac328",
   "metadata": {},
   "outputs": [
    {
     "data": {
      "text/plain": [
       "array([1., 2.])"
      ]
     },
     "execution_count": 27,
     "metadata": {},
     "output_type": "execute_result"
    }
   ],
   "source": [
    "A = np.matrix([\n",
    "    [10.9, 1.2, 2.1, 0.9],\n",
    "    [1.2, 11.2, 1.5, 2.5],\n",
    "    [2.1, 1.5, 9.8, 1.3],\n",
    "    [0.9, 2.5, 1.3, 12.1]\n",
    "], dtype=np.float64)\n",
    "\n",
    "A = np.matrix([\n",
    "    [2, 1],\n",
    "    [1, 2],\n",
    "], dtype=np.float64)\n",
    "\n",
    "B = np.matrix([4, 5], dtype=np.float64).T\n",
    "\n",
    "SIZE = A.shape[0]\n",
    "\n",
    "np.array(np.linalg.solve(A, B)).flatten()"
   ]
  },
  {
   "cell_type": "code",
   "execution_count": 28,
   "id": "95c3ac2d",
   "metadata": {},
   "outputs": [
    {
     "data": {
      "text/plain": [
       "array([1., 3.])"
      ]
     },
     "execution_count": 28,
     "metadata": {},
     "output_type": "execute_result"
    }
   ],
   "source": [
    "Result_Matrix, eigenvalues, vectors = rotations_with_obstacles(A, presicion)\n",
    "\n",
    "eigenvalues = np.array(eigenvalues)\n",
    "eigenvalues.sort()\n",
    "eigenvalues"
   ]
  },
  {
   "cell_type": "code",
   "execution_count": 33,
   "id": "56477efc",
   "metadata": {},
   "outputs": [
    {
     "name": "stdout",
     "output_type": "stream",
     "text": [
      "Имеет ли смысл применять метод Ричардсона?\n",
      "Да\n",
      "\n",
      "Число итераций: n = 6 \n",
      "Величина сходимости: q_n = 0.0007401924500370105\n",
      "\n",
      "Ответ: [1.00025807 1.99976744]\n"
     ]
    }
   ],
   "source": [
    "print(\"Имеет ли смысл применять метод Ричардсона?\")\n",
    "\n",
    "check = False\n",
    "\n",
    "if (eigenvalues[0] > 0):\n",
    "    check = True\n",
    "    print(\"Да\\n\")\n",
    "else:\n",
    "    print(\"Нет\")\n",
    "    \n",
    "if (check):\n",
    "    x, table = Richardson_method(eigenvalues[0], eigenvalues[-1], A, B, epsilon)\n",
    "    print(\"\\nОтвет:\", np.array(x).flatten())"
   ]
  },
  {
   "cell_type": "code",
   "execution_count": 34,
   "id": "8c6b932b",
   "metadata": {},
   "outputs": [
    {
     "data": {
      "text/html": [
       "<div>\n",
       "<style scoped>\n",
       "    .dataframe tbody tr th:only-of-type {\n",
       "        vertical-align: middle;\n",
       "    }\n",
       "\n",
       "    .dataframe tbody tr th {\n",
       "        vertical-align: top;\n",
       "    }\n",
       "\n",
       "    .dataframe thead th {\n",
       "        text-align: right;\n",
       "    }\n",
       "</style>\n",
       "<table border=\"1\" class=\"dataframe\">\n",
       "  <thead>\n",
       "    <tr style=\"text-align: right;\">\n",
       "      <th></th>\n",
       "      <th>X_1</th>\n",
       "      <th>X_2</th>\n",
       "    </tr>\n",
       "  </thead>\n",
       "  <tbody>\n",
       "    <tr>\n",
       "      <th>0</th>\n",
       "      <td>0.000000</td>\n",
       "      <td>0.000000</td>\n",
       "    </tr>\n",
       "    <tr>\n",
       "      <th>1</th>\n",
       "      <td>1.348651</td>\n",
       "      <td>1.685814</td>\n",
       "    </tr>\n",
       "    <tr>\n",
       "      <th>2</th>\n",
       "      <td>1.219479</td>\n",
       "      <td>1.780125</td>\n",
       "    </tr>\n",
       "    <tr>\n",
       "      <th>3</th>\n",
       "      <td>1.138550</td>\n",
       "      <td>1.861493</td>\n",
       "    </tr>\n",
       "    <tr>\n",
       "      <th>4</th>\n",
       "      <td>1.077194</td>\n",
       "      <td>1.922792</td>\n",
       "    </tr>\n",
       "    <tr>\n",
       "      <th>5</th>\n",
       "      <td>1.032868</td>\n",
       "      <td>1.967143</td>\n",
       "    </tr>\n",
       "    <tr>\n",
       "      <th>6</th>\n",
       "      <td>1.007438</td>\n",
       "      <td>1.992549</td>\n",
       "    </tr>\n",
       "    <tr>\n",
       "      <th>7</th>\n",
       "      <td>1.000258</td>\n",
       "      <td>1.999767</td>\n",
       "    </tr>\n",
       "  </tbody>\n",
       "</table>\n",
       "</div>"
      ],
      "text/plain": [
       "        X_1       X_2\n",
       "0  0.000000  0.000000\n",
       "1  1.348651  1.685814\n",
       "2  1.219479  1.780125\n",
       "3  1.138550  1.861493\n",
       "4  1.077194  1.922792\n",
       "5  1.032868  1.967143\n",
       "6  1.007438  1.992549\n",
       "7  1.000258  1.999767"
      ]
     },
     "execution_count": 34,
     "metadata": {},
     "output_type": "execute_result"
    }
   ],
   "source": [
    "table"
   ]
  },
  {
   "cell_type": "code",
   "execution_count": 35,
   "id": "6b7ec258",
   "metadata": {},
   "outputs": [
    {
     "name": "stdout",
     "output_type": "stream",
     "text": [
      "Погрешность с системой:\n"
     ]
    },
    {
     "data": {
      "text/latex": [
       "$\\displaystyle \\left[\\begin{matrix}0.000283580333354294\\\\-0.00020704672179761\\end{matrix}\\right]$"
      ],
      "text/plain": [
       "Matrix([\n",
       "[0.000283580333354294],\n",
       "[-0.00020704672179761]])"
      ]
     },
     "execution_count": 35,
     "metadata": {},
     "output_type": "execute_result"
    }
   ],
   "source": [
    "error1 = sp.Matrix(A * x - B)\n",
    "print(\"Погрешность с системой:\")\n",
    "error1"
   ]
  },
  {
   "cell_type": "code",
   "execution_count": 36,
   "id": "d0c66089",
   "metadata": {},
   "outputs": [
    {
     "name": "stdout",
     "output_type": "stream",
     "text": [
      "Максимум погрешности с системой:\n"
     ]
    },
    {
     "data": {
      "text/latex": [
       "$\\displaystyle 0.000283580333354294$"
      ],
      "text/plain": [
       "0.000283580333354294"
      ]
     },
     "execution_count": 36,
     "metadata": {},
     "output_type": "execute_result"
    }
   ],
   "source": [
    "print(\"Максимум погрешности с системой:\")\n",
    "max(abs(error1))"
   ]
  },
  {
   "cell_type": "code",
   "execution_count": 37,
   "id": "d7c4efb7",
   "metadata": {
    "scrolled": true
   },
   "outputs": [
    {
     "name": "stdout",
     "output_type": "stream",
     "text": [
      "Погрешность с линейным алгоритмом numpy:\n"
     ]
    },
    {
     "data": {
      "text/latex": [
       "$\\displaystyle \\left[\\begin{matrix}-0.000258069129502214\\\\0.000232557925650134\\end{matrix}\\right]$"
      ],
      "text/plain": [
       "Matrix([\n",
       "[-0.000258069129502214],\n",
       "[ 0.000232557925650134]])"
      ]
     },
     "execution_count": 37,
     "metadata": {},
     "output_type": "execute_result"
    }
   ],
   "source": [
    "print(\"Погрешность с линейным алгоритмом numpy:\")\n",
    "error2 = sp.Matrix(np.linalg.solve(A, B) - x)\n",
    "error2"
   ]
  },
  {
   "cell_type": "code",
   "execution_count": 38,
   "id": "fc05af71",
   "metadata": {},
   "outputs": [
    {
     "name": "stdout",
     "output_type": "stream",
     "text": [
      "Максимум погрешности с линейным алгоритмом numpy:\n"
     ]
    },
    {
     "data": {
      "text/latex": [
       "$\\displaystyle 0.000258069129502214$"
      ],
      "text/plain": [
       "0.000258069129502214"
      ]
     },
     "execution_count": 38,
     "metadata": {},
     "output_type": "execute_result"
    }
   ],
   "source": [
    "print(\"Максимум погрешности с линейным алгоритмом numpy:\")\n",
    "max(abs(error2))"
   ]
  }
 ],
 "metadata": {
  "kernelspec": {
   "display_name": "Python 3 (ipykernel)",
   "language": "python",
   "name": "python3"
  },
  "language_info": {
   "codemirror_mode": {
    "name": "ipython",
    "version": 3
   },
   "file_extension": ".py",
   "mimetype": "text/x-python",
   "name": "python",
   "nbconvert_exporter": "python",
   "pygments_lexer": "ipython3",
   "version": "3.11.5"
  }
 },
 "nbformat": 4,
 "nbformat_minor": 5
}
