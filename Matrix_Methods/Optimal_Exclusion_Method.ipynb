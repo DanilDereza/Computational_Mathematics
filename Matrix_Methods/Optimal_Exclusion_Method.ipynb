{
 "cells": [
  {
   "cell_type": "code",
   "execution_count": 26,
   "id": "05b51ae2",
   "metadata": {},
   "outputs": [],
   "source": [
    "import numpy as np\n",
    "from sympy import *\n",
    "import random\n",
    "import copy"
   ]
  },
  {
   "cell_type": "code",
   "execution_count": 192,
   "id": "ac6b36df",
   "metadata": {},
   "outputs": [],
   "source": [
    "SIZE = 3\n",
    "left = -10\n",
    "right = 10"
   ]
  },
  {
   "cell_type": "code",
   "execution_count": 198,
   "id": "1fed23d5",
   "metadata": {},
   "outputs": [],
   "source": [
    "def create_matrix_2(n, a, b):\n",
    "    array = []\n",
    "    for i in range(n):\n",
    "        array.append([random.uniform(a, b) for j in range(n+1)])\n",
    "    return array\n",
    "\n",
    "\n",
    "def print_arr(arr):\n",
    "    for i in range(len(arr)):\n",
    "        for j in range(len(arr[i])):\n",
    "            print(arr[i][j], end = ' ')\n",
    "        print()\n",
    "\n",
    "    \n",
    "def optexception_method(_A, counter):\n",
    "    for i in range(counter):\n",
    "        _A[counter] = [(_A[counter][j] - _A[i][j] * _A[counter][i]) for j in range(SIZE+1)]\n",
    "\n",
    "    _A[counter] = [_A[counter][j] / _A[counter][counter] for j in range(SIZE+1)]\n",
    "    \n",
    "    for i in range(counter):\n",
    "        temp = _A[i][counter]\n",
    "        for j in range(counter, SIZE+1):\n",
    "            _A[i][j] = _A[i][j] - temp * _A[counter][j]\n",
    "   \n",
    "    if (counter == SIZE-1): return _A\n",
    "    else: return optexception_method(_A, counter+1)\n",
    "    \n",
    "\n",
    "def retrieve_Bx(A):\n",
    "    x = []\n",
    "    for elem in A:\n",
    "        x.append(elem[len(elem)-1])\n",
    "    return x\n",
    "\n",
    "\n",
    "def retrieve_M(A):\n",
    "    MATRIX = []\n",
    "    for elem in A:\n",
    "        MATRIX.append([elem[j] for j in range(len(elem)-1)])\n",
    "    return MATRIX\n"
   ]
  },
  {
   "cell_type": "code",
   "execution_count": 232,
   "id": "61b809fe",
   "metadata": {},
   "outputs": [
    {
     "name": "stdout",
     "output_type": "stream",
     "text": [
      "Исходная матрица:\n",
      "5 2 3 3 \n",
      "1 6 1 5 \n",
      "3 -4 -2 8 \n",
      "\n",
      "Нерасширенная часть этой матрицы:\n",
      "5 2 3 \n",
      "1 6 1 \n",
      "3 -4 -2 \n",
      "\n",
      "Правая часть: [3, 5, 8] \n",
      "\n",
      "Результат работы алгоритма:\n",
      "1.0 0.0 0.0 1.9999999999999998 \n",
      "0.0 1.0 0.0 1.0 \n",
      "-0.0 -0.0 1.0 -3.0 \n",
      "\n",
      "Ответ: [1.9999999999999998, 1.0, -3.0]\n",
      "\n",
      "Погрешность: [ 2.22044605e-16  0.00000000e+00 -4.44089210e-16]\n"
     ]
    }
   ],
   "source": [
    "while(True):\n",
    "    A = create_matrix_2(SIZE, left, right)\n",
    "    MATRIX = retrieve_M(A)\n",
    "    if (np.linalg.det(MATRIX) !=0 and A[0][0] != 0):\n",
    "        break\n",
    "    \n",
    "A = [\n",
    "    [5, 2, 3, 3],\n",
    "    [1, 6, 1, 5],\n",
    "    [3, -4, -2, 8]\n",
    "    ]\n",
    "\n",
    "print(\"Исходная матрица:\")\n",
    "print_arr(A)\n",
    "\n",
    "print()\n",
    "\n",
    "MATRIX = retrieve_M(A)\n",
    "print(\"Нерасширенная часть этой матрицы:\")\n",
    "print_arr(MATRIX)\n",
    "print()\n",
    "\n",
    "B = retrieve_Bx(A)\n",
    "print(\"Правая часть:\", B, '\\n')\n",
    "\n",
    "ALG_A = copy.deepcopy(A)\n",
    "\n",
    "NEW_A = optexception_method(ALG_A, 0)\n",
    "print(\"Результат работы алгоритма:\")\n",
    "print_arr(NEW_A)\n",
    "\n",
    "x = retrieve_Bx(NEW_A)\n",
    "print(\"\\nОтвет:\", x)\n",
    "\n",
    "print(\"\\nПогрешность:\", x - np.linalg.solve(MATRIX, B))"
   ]
  }
 ],
 "metadata": {
  "kernelspec": {
   "display_name": "Python 3 (ipykernel)",
   "language": "python",
   "name": "python3"
  },
  "language_info": {
   "codemirror_mode": {
    "name": "ipython",
    "version": 3
   },
   "file_extension": ".py",
   "mimetype": "text/x-python",
   "name": "python",
   "nbconvert_exporter": "python",
   "pygments_lexer": "ipython3",
   "version": "3.9.13"
  }
 },
 "nbformat": 4,
 "nbformat_minor": 5
}
